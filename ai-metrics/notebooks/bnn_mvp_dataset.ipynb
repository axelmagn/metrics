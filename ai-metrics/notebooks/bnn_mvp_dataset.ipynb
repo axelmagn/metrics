{
 "cells": [
  {
   "cell_type": "code",
   "execution_count": 1,
   "metadata": {
    "collapsed": true
   },
   "outputs": [],
   "source": [
    "\"\"\"\n",
    "The intent of this notebook is dataset creation\n",
    "for the MVP of our brainNN classifier.\n",
    "\"\"\"\n",
    "import matplotlib\n",
    "import numpy as np\n",
    "import matplotlib.pyplot as plt\n",
    "import pandas as pd\n",
    "from tornado import gen\n",
    "from tornado.ioloop import IOLoop\n",
    "from aimetrics import metrics\n",
    "import seaborn as sns\n",
    "%matplotlib inline"
   ]
  },
  {
   "cell_type": "code",
   "execution_count": 2,
   "metadata": {
    "collapsed": true
   },
   "outputs": [],
   "source": [
    "# Retrieve the raw data for bst/drone\n",
    "# NOTE: ASYNC\n",
    "data = {}\n",
    "@gen.coroutine\n",
    "def get_data():\n",
    "    data['drones'] = yield metrics.fetch_data(\"http://localhost:3002/\", \"bst\", \"drone\", auth_username=\"bst\", auth_password=\"bst\")\n",
    "    return data\n",
    "\n",
    "IOLoop.instance().add_callback(get_data)"
   ]
  },
  {
   "cell_type": "code",
   "execution_count": 17,
   "metadata": {
    "collapsed": false
   },
   "outputs": [],
   "source": [
    "# separate and save the data into training, testing, and validation sets\n",
    "from sklearn.cross_validation import StratifiedShuffleSplit\n",
    "labels = data['drones']['classes']\n",
    "X = pd.DataFrame(data['drones']['X'], columns=data['drones']['features'])[['rcs', 'range', 'speed']]\n",
    "y = pd.DataFrame(data['drones']['y'], columns=labels)[['small drone', 'person']]\n",
    "y['small_drone'] = y['small drone']\n",
    "del y['small drone']\n",
    "trn_val_ind, test_ind = list(StratifiedShuffleSplit(y['small_drone'], 1, 0.1))[0]\n",
    "X_trn_val, X_test = X.iloc[trn_val_ind], X.iloc[test_ind]\n",
    "y_trn_val, y_test = y.iloc[trn_val_ind], y.iloc[test_ind]\n",
    "X_trn_val.to_csv('data/bnn-mvp/X_trn_val.csv')\n",
    "y_trn_val.to_csv('data/bnn-mvp/y_trn_val.csv')\n",
    "X_test.to_csv('data/bnn-mvp/X_test.csv')\n",
    "y_test.to_csv('data/bnn-mvp/y_test.csv')"
   ]
  },
  {
   "cell_type": "code",
   "execution_count": null,
   "metadata": {
    "collapsed": false
   },
   "outputs": [],
   "source": []
  },
  {
   "cell_type": "code",
   "execution_count": null,
   "metadata": {
    "collapsed": true
   },
   "outputs": [],
   "source": []
  }
 ],
 "metadata": {
  "kernelspec": {
   "display_name": "Python 3",
   "language": "python",
   "name": "python3"
  },
  "language_info": {
   "codemirror_mode": {
    "name": "ipython",
    "version": 3
   },
   "file_extension": ".py",
   "mimetype": "text/x-python",
   "name": "python",
   "nbconvert_exporter": "python",
   "pygments_lexer": "ipython3",
   "version": "3.4.3"
  }
 },
 "nbformat": 4,
 "nbformat_minor": 0
}
